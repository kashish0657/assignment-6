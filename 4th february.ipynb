{
 "cells": [
  {
   "cell_type": "markdown",
   "id": "139e682b-fc6f-47e0-9921-3e4924e7e486",
   "metadata": {},
   "source": [
    "4th february assignment"
   ]
  },
  {
   "cell_type": "code",
   "execution_count": null,
   "id": "02d72d47-c843-4dc2-ad56-a43efd801fce",
   "metadata": {},
   "outputs": [],
   "source": [
    "1:ans:-\n",
    "\n",
    "players=[(\"virat Kholi\",644654),(\"Hardik Pandya\",876876),(\"Sachin Tendulkar\",757676),(\"Rohit Sharma\",878585)]\n",
    "players.sort( key = lambda x : x[1])\n",
    "\n",
    "print(players)"
   ]
  },
  {
   "cell_type": "code",
   "execution_count": null,
   "id": "e1273567-6408-465e-88ed-152f78bd963a",
   "metadata": {},
   "outputs": [],
   "source": [
    "2:ans:-\n",
    "\n",
    "l=[1,2,3,4,5,6,7,8,9]\n",
    "\n",
    "list(map(lambda x : x**2 , 1))"
   ]
  },
  {
   "cell_type": "code",
   "execution_count": null,
   "id": "ad0f075c-90a0-486d-ad52-5183d0768984",
   "metadata": {},
   "outputs": [],
   "source": [
    "3:ans:-\n",
    "\n",
    "l1=[1,2,3,4,5,6,7,8,9,10]\n",
    "\n",
    "tuple=(map(lambda x : str(x) , l1))"
   ]
  },
  {
   "cell_type": "code",
   "execution_count": null,
   "id": "98946503-dfd3-4c11-bf80-624d16de7f2e",
   "metadata": {},
   "outputs": [],
   "source": [
    "4:ans:-\n",
    "\n",
    "from functools import reduce\n",
    "\n",
    "l2=list(range(1,26))\n",
    "\n",
    "reduce(lambda x,y : x*y , l2)"
   ]
  },
  {
   "cell_type": "code",
   "execution_count": null,
   "id": "aff27cde-4d0d-4f80-a197-4563acf4f712",
   "metadata": {},
   "outputs": [],
   "source": [
    "5:ans:-\n",
    "\n",
    "l3=[2,3,45,67,89,56,83,22,12,46]\n",
    "\n",
    "list(filter(lambda x: x % 2 == 0 and x % 3 == 0 , l3))"
   ]
  },
  {
   "cell_type": "code",
   "execution_count": null,
   "id": "02655db5-15de-47ed-9744-74d5a9b8c53e",
   "metadata": {},
   "outputs": [],
   "source": [
    "6:ans:-\n",
    "\n",
    "string=['python','shik','kash','radar','gaurvi'"
   ]
  }
 ],
 "metadata": {
  "kernelspec": {
   "display_name": "Python 3 (ipykernel)",
   "language": "python",
   "name": "python3"
  },
  "language_info": {
   "codemirror_mode": {
    "name": "ipython",
    "version": 3
   },
   "file_extension": ".py",
   "mimetype": "text/x-python",
   "name": "python",
   "nbconvert_exporter": "python",
   "pygments_lexer": "ipython3",
   "version": "3.10.8"
  }
 },
 "nbformat": 4,
 "nbformat_minor": 5
}
